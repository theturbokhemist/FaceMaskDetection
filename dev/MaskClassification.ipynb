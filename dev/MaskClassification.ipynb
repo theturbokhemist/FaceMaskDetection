{
 "cells": [
  {
   "cell_type": "code",
   "execution_count": 41,
   "id": "d6769a68",
   "metadata": {
    "scrolled": false
   },
   "outputs": [
    {
     "data": {
      "text/plain": [
       "['.DS_Store',\n",
       " '.ipynb_checkpoints',\n",
       " 'MaskClassification.ipynb',\n",
       " 'Not_Worn',\n",
       " 'README.txt',\n",
       " 'WWMR-DB - Labels',\n",
       " 'WWMR-DB - Part 1',\n",
       " 'WWMR-DB - Part 2',\n",
       " 'Worn_Correctly']"
      ]
     },
     "execution_count": 41,
     "metadata": {},
     "output_type": "execute_result"
    }
   ],
   "source": [
    "import os\n",
    "import shutil\n",
    "sorted(os.listdir())"
   ]
  },
  {
   "cell_type": "code",
   "execution_count": 49,
   "id": "4988a9be",
   "metadata": {},
   "outputs": [],
   "source": [
    "#Create New Folders if they dont exist\n",
    "if not os.path.isdir('Worn_Correctly'):\n",
    "    os.makedirs(\"Worn_Correctly\")\n",
    "    \n",
    "if not os.path.isdir('Not_Worn'):\n",
    "    os.makedirs(\"Not_Worn\")"
   ]
  },
  {
   "cell_type": "code",
   "execution_count": 57,
   "id": "d017b9c9",
   "metadata": {},
   "outputs": [],
   "source": [
    "#Make functions for copying images into a single folder\n",
    "def copyImages(start, destination, category):\n",
    "    for folder in os.listdir(start):\n",
    "        subdir = os.path.join(start, folder)\n",
    "        if os.path.isdir(subdir):\n",
    "\n",
    "            subdir2 = os.path.join(subdir, category)\n",
    "            if os.path.isdir(subdir2):\n",
    "\n",
    "                for folder2 in os.listdir(subdir2):\n",
    "                    subdir3 = os.path.join(subdir2, folder2)\n",
    "                    if os.path.isdir(subdir3):\n",
    "                        for file in os.listdir(subdir3):\n",
    "                            image = os.path.join(subdir3, file)\n",
    "                            shutil.copy2(image, destination)\n",
    "                            \n",
    "                            \n",
    "def copyImages2(start, destination, category):\n",
    "    for folder in os.listdir(start):\n",
    "        subdir = os.path.join(start, folder)\n",
    "        if os.path.isdir(subdir):\n",
    "\n",
    "            subdir2 = os.path.join(subdir, category)\n",
    "            if os.path.isdir(subdir2):\n",
    "\n",
    "                for file in os.listdir(subdir2):\n",
    "                    image = os.path.join(subdir2, file)\n",
    "                    shutil.copy2(image, destination)"
   ]
  },
  {
   "cell_type": "markdown",
   "id": "522a9800",
   "metadata": {},
   "source": [
    "### Copy Images to Binary Classification Folders"
   ]
  },
  {
   "cell_type": "code",
   "execution_count": 51,
   "id": "ea61efd1",
   "metadata": {},
   "outputs": [
    {
     "data": {
      "text/plain": [
       "70"
      ]
     },
     "execution_count": 51,
     "metadata": {},
     "output_type": "execute_result"
    }
   ],
   "source": [
    "start = os.getcwd() + \"/WWMR-DB - Part 1\"\n",
    "destination = os.getcwd() + \"/Worn_Correctly\"\n",
    "category = \"Mask Or Respirator Correctly Worn\"\n",
    "copyImages(start, destination, category)\n",
    "len(os.listdir(destination))"
   ]
  },
  {
   "cell_type": "code",
   "execution_count": 52,
   "id": "c51b1fc0",
   "metadata": {},
   "outputs": [
    {
     "data": {
      "text/plain": [
       "152"
      ]
     },
     "execution_count": 52,
     "metadata": {},
     "output_type": "execute_result"
    }
   ],
   "source": [
    "start = os.getcwd() + \"/WWMR-DB - Part 2\"\n",
    "destination = os.getcwd() + \"/Worn_Correctly\"\n",
    "category = \"Mask Or Respirator Correctly Worn\"\n",
    "copyImages(start, destination, category)\n",
    "len(os.listdir(destination))"
   ]
  },
  {
   "cell_type": "code",
   "execution_count": 58,
   "id": "d9e96dab",
   "metadata": {},
   "outputs": [
    {
     "data": {
      "text/plain": [
       "46"
      ]
     },
     "execution_count": 58,
     "metadata": {},
     "output_type": "execute_result"
    }
   ],
   "source": [
    "start = os.getcwd() + \"/WWMR-DB - Part 1\"\n",
    "destination = os.getcwd() + \"/Not_Worn\"\n",
    "category = \"Mask Or Respirator Not Worn\"\n",
    "copyImages2(start, destination, category)\n",
    "len(os.listdir(destination))"
   ]
  },
  {
   "cell_type": "markdown",
   "id": "a3c1bd17",
   "metadata": {},
   "source": [
    "start = os.getcwd() + \"/WWMR-DB - Part 2\"\n",
    "destination = os.getcwd() + \"/Not_Worn\"\n",
    "category = \"Mask Or Respirator Not Worn\"\n",
    "copyImages2(start, destination, category)\n",
    "len(os.listdir(destination))"
   ]
  },
  {
   "cell_type": "markdown",
   "id": "2ba65538",
   "metadata": {},
   "source": [
    "### Read Images to create list "
   ]
  },
  {
   "cell_type": "code",
   "execution_count": 85,
   "id": "9586fad0",
   "metadata": {},
   "outputs": [],
   "source": [
    "import cv2\n",
    "import numpy as np\n",
    "import pandas as pd\n",
    "import matplotlib.pyplot as plt"
   ]
  },
  {
   "cell_type": "code",
   "execution_count": 79,
   "id": "a4a4d0c2",
   "metadata": {
    "scrolled": false
   },
   "outputs": [],
   "source": [
    "folder = os.getcwd() + \"/Worn_Correctly\"\n",
    "wc_list = [cv2.imread(os.path.join(folder, image)) for image in os.listdir(folder)]"
   ]
  },
  {
   "cell_type": "code",
   "execution_count": 82,
   "id": "6218e498",
   "metadata": {
    "scrolled": true
   },
   "outputs": [],
   "source": [
    "folder = os.getcwd() + \"/Not_Worn\"\n",
    "nw_list = [cv2.imread(os.path.join(folder, image)) for image in os.listdir(folder)]"
   ]
  },
  {
   "cell_type": "code",
   "execution_count": 109,
   "id": "50edfa5d",
   "metadata": {},
   "outputs": [
    {
     "data": {
      "image/png": "[encoded data removed]",
      "text/plain": [
       "<Figure size 432x288 with 1 Axes>"
      ]
     },
     "metadata": {
      "needs_background": "light"
     },
     "output_type": "display_data"
    }
   ],
   "source": [
    "plt.imshow(wc_list[0])\n",
    "plt.show()"
   ]
  },
  {
   "cell_type": "markdown",
   "id": "017627c0",
   "metadata": {},
   "source": [
    "### How many unique image dimensions are there?"
   ]
  },
  {
   "cell_type": "code",
   "execution_count": 91,
   "id": "ed63acdc",
   "metadata": {},
   "outputs": [
    {
     "data": {
      "text/html": [
       "<div>\n",
       "<style scoped>\n",
       "    .dataframe tbody tr th:only-of-type {\n",
       "        vertical-align: middle;\n",
       "    }\n",
       "\n",
       "    .dataframe tbody tr th {\n",
       "        vertical-align: top;\n",
       "    }\n",
       "\n",
       "    .dataframe thead th {\n",
       "        text-align: right;\n",
       "    }\n",
       "</style>\n",
       "<table border=\"1\" class=\"dataframe\">\n",
       "  <thead>\n",
       "    <tr style=\"text-align: right;\">\n",
       "      <th></th>\n",
       "      <th>R</th>\n",
       "      <th>C</th>\n",
       "    </tr>\n",
       "  </thead>\n",
       "  <tbody>\n",
       "    <tr>\n",
       "      <th>0</th>\n",
       "      <td>6528</td>\n",
       "      <td>4896</td>\n",
       "    </tr>\n",
       "    <tr>\n",
       "      <th>1</th>\n",
       "      <td>5184</td>\n",
       "      <td>3880</td>\n",
       "    </tr>\n",
       "    <tr>\n",
       "      <th>2</th>\n",
       "      <td>3264</td>\n",
       "      <td>2448</td>\n",
       "    </tr>\n",
       "    <tr>\n",
       "      <th>3</th>\n",
       "      <td>5184</td>\n",
       "      <td>3880</td>\n",
       "    </tr>\n",
       "    <tr>\n",
       "      <th>4</th>\n",
       "      <td>5184</td>\n",
       "      <td>3880</td>\n",
       "    </tr>\n",
       "    <tr>\n",
       "      <th>...</th>\n",
       "      <td>...</td>\n",
       "      <td>...</td>\n",
       "    </tr>\n",
       "    <tr>\n",
       "      <th>108</th>\n",
       "      <td>6528</td>\n",
       "      <td>4896</td>\n",
       "    </tr>\n",
       "    <tr>\n",
       "      <th>109</th>\n",
       "      <td>3264</td>\n",
       "      <td>2448</td>\n",
       "    </tr>\n",
       "    <tr>\n",
       "      <th>110</th>\n",
       "      <td>4032</td>\n",
       "      <td>1860</td>\n",
       "    </tr>\n",
       "    <tr>\n",
       "      <th>111</th>\n",
       "      <td>3264</td>\n",
       "      <td>2448</td>\n",
       "    </tr>\n",
       "    <tr>\n",
       "      <th>112</th>\n",
       "      <td>3264</td>\n",
       "      <td>2448</td>\n",
       "    </tr>\n",
       "  </tbody>\n",
       "</table>\n",
       "<p>265 rows × 2 columns</p>\n",
       "</div>"
      ],
      "text/plain": [
       "        R     C\n",
       "0    6528  4896\n",
       "1    5184  3880\n",
       "2    3264  2448\n",
       "3    5184  3880\n",
       "4    5184  3880\n",
       "..    ...   ...\n",
       "108  6528  4896\n",
       "109  3264  2448\n",
       "110  4032  1860\n",
       "111  3264  2448\n",
       "112  3264  2448\n",
       "\n",
       "[265 rows x 2 columns]"
      ]
     },
     "execution_count": 91,
     "metadata": {},
     "output_type": "execute_result"
    }
   ],
   "source": [
    "df = pd.DataFrame([[image.shape[0],image.shape[1]] for image in wc_list])\n",
    "df = pd.concat([df, pd.DataFrame([[image.shape[0],image.shape[1]] for image in nw_list])])\n",
    "df.columns = [\"R\", \"C\"]\n",
    "df"
   ]
  },
  {
   "cell_type": "code",
   "execution_count": 105,
   "id": "08f26389",
   "metadata": {
    "scrolled": true
   },
   "outputs": [
    {
     "data": {
      "text/html": [
       "<div>\n",
       "<style scoped>\n",
       "    .dataframe tbody tr th:only-of-type {\n",
       "        vertical-align: middle;\n",
       "    }\n",
       "\n",
       "    .dataframe tbody tr th {\n",
       "        vertical-align: top;\n",
       "    }\n",
       "\n",
       "    .dataframe thead th {\n",
       "        text-align: right;\n",
       "    }\n",
       "</style>\n",
       "<table border=\"1\" class=\"dataframe\">\n",
       "  <thead>\n",
       "    <tr style=\"text-align: right;\">\n",
       "      <th></th>\n",
       "      <th>R</th>\n",
       "      <th>C</th>\n",
       "      <th>count</th>\n",
       "    </tr>\n",
       "  </thead>\n",
       "  <tbody>\n",
       "    <tr>\n",
       "      <th>0</th>\n",
       "      <td>3264</td>\n",
       "      <td>2448</td>\n",
       "      <td>50</td>\n",
       "    </tr>\n",
       "    <tr>\n",
       "      <th>1</th>\n",
       "      <td>5184</td>\n",
       "      <td>3880</td>\n",
       "      <td>30</td>\n",
       "    </tr>\n",
       "    <tr>\n",
       "      <th>2</th>\n",
       "      <td>4608</td>\n",
       "      <td>3456</td>\n",
       "      <td>26</td>\n",
       "    </tr>\n",
       "    <tr>\n",
       "      <th>3</th>\n",
       "      <td>4624</td>\n",
       "      <td>3472</td>\n",
       "      <td>20</td>\n",
       "    </tr>\n",
       "    <tr>\n",
       "      <th>4</th>\n",
       "      <td>1280</td>\n",
       "      <td>720</td>\n",
       "      <td>19</td>\n",
       "    </tr>\n",
       "    <tr>\n",
       "      <th>5</th>\n",
       "      <td>3456</td>\n",
       "      <td>5184</td>\n",
       "      <td>18</td>\n",
       "    </tr>\n",
       "    <tr>\n",
       "      <th>6</th>\n",
       "      <td>6528</td>\n",
       "      <td>4896</td>\n",
       "      <td>12</td>\n",
       "    </tr>\n",
       "    <tr>\n",
       "      <th>7</th>\n",
       "      <td>3088</td>\n",
       "      <td>2320</td>\n",
       "      <td>10</td>\n",
       "    </tr>\n",
       "    <tr>\n",
       "      <th>8</th>\n",
       "      <td>1920</td>\n",
       "      <td>1080</td>\n",
       "      <td>9</td>\n",
       "    </tr>\n",
       "    <tr>\n",
       "      <th>9</th>\n",
       "      <td>4032</td>\n",
       "      <td>1860</td>\n",
       "      <td>9</td>\n",
       "    </tr>\n",
       "    <tr>\n",
       "      <th>10</th>\n",
       "      <td>1280</td>\n",
       "      <td>960</td>\n",
       "      <td>8</td>\n",
       "    </tr>\n",
       "    <tr>\n",
       "      <th>11</th>\n",
       "      <td>4224</td>\n",
       "      <td>3136</td>\n",
       "      <td>6</td>\n",
       "    </tr>\n",
       "    <tr>\n",
       "      <th>12</th>\n",
       "      <td>3264</td>\n",
       "      <td>1588</td>\n",
       "      <td>6</td>\n",
       "    </tr>\n",
       "    <tr>\n",
       "      <th>13</th>\n",
       "      <td>640</td>\n",
       "      <td>480</td>\n",
       "      <td>6</td>\n",
       "    </tr>\n",
       "    <tr>\n",
       "      <th>14</th>\n",
       "      <td>3000</td>\n",
       "      <td>3000</td>\n",
       "      <td>6</td>\n",
       "    </tr>\n",
       "    <tr>\n",
       "      <th>15</th>\n",
       "      <td>2944</td>\n",
       "      <td>2208</td>\n",
       "      <td>6</td>\n",
       "    </tr>\n",
       "    <tr>\n",
       "      <th>16</th>\n",
       "      <td>3264</td>\n",
       "      <td>1472</td>\n",
       "      <td>4</td>\n",
       "    </tr>\n",
       "    <tr>\n",
       "      <th>17</th>\n",
       "      <td>2576</td>\n",
       "      <td>1932</td>\n",
       "      <td>2</td>\n",
       "    </tr>\n",
       "    <tr>\n",
       "      <th>18</th>\n",
       "      <td>2320</td>\n",
       "      <td>3088</td>\n",
       "      <td>2</td>\n",
       "    </tr>\n",
       "    <tr>\n",
       "      <th>19</th>\n",
       "      <td>3968</td>\n",
       "      <td>2976</td>\n",
       "      <td>2</td>\n",
       "    </tr>\n",
       "    <tr>\n",
       "      <th>20</th>\n",
       "      <td>2032</td>\n",
       "      <td>1080</td>\n",
       "      <td>2</td>\n",
       "    </tr>\n",
       "    <tr>\n",
       "      <th>21</th>\n",
       "      <td>4032</td>\n",
       "      <td>3024</td>\n",
       "      <td>2</td>\n",
       "    </tr>\n",
       "    <tr>\n",
       "      <th>22</th>\n",
       "      <td>4128</td>\n",
       "      <td>3096</td>\n",
       "      <td>2</td>\n",
       "    </tr>\n",
       "    <tr>\n",
       "      <th>23</th>\n",
       "      <td>4160</td>\n",
       "      <td>3120</td>\n",
       "      <td>2</td>\n",
       "    </tr>\n",
       "    <tr>\n",
       "      <th>24</th>\n",
       "      <td>1584</td>\n",
       "      <td>1176</td>\n",
       "      <td>2</td>\n",
       "    </tr>\n",
       "    <tr>\n",
       "      <th>25</th>\n",
       "      <td>1280</td>\n",
       "      <td>958</td>\n",
       "      <td>2</td>\n",
       "    </tr>\n",
       "    <tr>\n",
       "      <th>26</th>\n",
       "      <td>1600</td>\n",
       "      <td>1200</td>\n",
       "      <td>1</td>\n",
       "    </tr>\n",
       "    <tr>\n",
       "      <th>27</th>\n",
       "      <td>1600</td>\n",
       "      <td>900</td>\n",
       "      <td>1</td>\n",
       "    </tr>\n",
       "  </tbody>\n",
       "</table>\n",
       "</div>"
      ],
      "text/plain": [
       "       R     C  count\n",
       "0   3264  2448     50\n",
       "1   5184  3880     30\n",
       "2   4608  3456     26\n",
       "3   4624  3472     20\n",
       "4   1280   720     19\n",
       "5   3456  5184     18\n",
       "6   6528  4896     12\n",
       "7   3088  2320     10\n",
       "8   1920  1080      9\n",
       "9   4032  1860      9\n",
       "10  1280   960      8\n",
       "11  4224  3136      6\n",
       "12  3264  1588      6\n",
       "13   640   480      6\n",
       "14  3000  3000      6\n",
       "15  2944  2208      6\n",
       "16  3264  1472      4\n",
       "17  2576  1932      2\n",
       "18  2320  3088      2\n",
       "19  3968  2976      2\n",
       "20  2032  1080      2\n",
       "21  4032  3024      2\n",
       "22  4128  3096      2\n",
       "23  4160  3120      2\n",
       "24  1584  1176      2\n",
       "25  1280   958      2\n",
       "26  1600  1200      1\n",
       "27  1600   900      1"
      ]
     },
     "execution_count": 105,
     "metadata": {},
     "output_type": "execute_result"
    }
   ],
   "source": [
    "df1 = df.groupby(['R','C']).size().reset_index().rename(columns={0:'count'})\n",
    "df1.sort_values(by = [\"count\"], ascending=False).reset_index(drop = True)"
   ]
  },
  {
   "cell_type": "code",
   "execution_count": null,
   "id": "05136352",
   "metadata": {},
   "outputs": [],
   "source": []
  }
 ],
 "metadata": {
  "kernelspec": {
   "display_name": "Python 3",
   "language": "python",
   "name": "python3"
  },
  "language_info": {
   "codemirror_mode": {
    "name": "ipython",
    "version": 3
   },
   "file_extension": ".py",
   "mimetype": "text/x-python",
   "name": "python",
   "nbconvert_exporter": "python",
   "pygments_lexer": "ipython3",
   "version": "3.9.1"
  }
 },
 "nbformat": 4,
 "nbformat_minor": 5
}
