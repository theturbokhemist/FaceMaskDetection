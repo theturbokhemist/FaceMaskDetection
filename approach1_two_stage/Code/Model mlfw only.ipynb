{
 "cells": [
  {
   "cell_type": "markdown",
   "id": "25a22a07",
   "metadata": {},
   "source": [
    "# Model\n",
    "\n",
    "This model is build to work with data from multiple datasets that have been processed to 112x112 size.\n",
    "\n",
    "## Imports and information"
   ]
  },
  {
   "cell_type": "code",
   "execution_count": 1,
   "id": "5037d39c",
   "metadata": {},
   "outputs": [],
   "source": [
    "import numpy as np\n",
    "import pandas as pd\n",
    "import matplotlib.pyplot as plt\n",
    "from typing import Sequence\n",
    "from functools import partial\n",
    "from random import randint\n",
    "\n",
    "import torch\n",
    "from torch.utils.data import Dataset, DataLoader\n",
    "from torch import nn\n",
    "import torchmetrics\n",
    "\n",
    "from sklearn.model_selection import train_test_split\n",
    "from sklearn.metrics import classification_report, confusion_matrix\n"
   ]
  },
  {
   "cell_type": "code",
   "execution_count": 2,
   "id": "287b7f8d",
   "metadata": {},
   "outputs": [],
   "source": [
    "## WWMR data paths\n",
    "mlfw_X_fp = r'D:\\data\\face_mask\\MLFW\\MLFW_X.npy'\n",
    "mlfw_y_fp = r'D:\\data\\face_mask\\MLFW\\MLFW_y.npy'"
   ]
  },
  {
   "cell_type": "markdown",
   "id": "57cd7429",
   "metadata": {},
   "source": [
    "## Build data loader"
   ]
  },
  {
   "cell_type": "code",
   "execution_count": 3,
   "id": "10b1b692",
   "metadata": {},
   "outputs": [],
   "source": [
    "class maskDataset(Dataset):\n",
    "    def __init__(\n",
    "        self,\n",
    "        X_data,\n",
    "        y_data,\n",
    "        norm_0_1: bool = True,\n",
    "        print_stats: bool = True,\n",
    "    ):        \n",
    "        self.X_data = X_data\n",
    "        \n",
    "        # Norm\n",
    "        if norm_0_1:\n",
    "            self.X = self.X_data / 255\n",
    "        else:\n",
    "            self.X = self.X_data\n",
    "        \n",
    "        self.y = y_data\n",
    "        \n",
    "        self.length = len(self.y)\n",
    "        \n",
    "        # Print Stats\n",
    "        if print_stats:\n",
    "            print('# examples:    {}'.format(self.length))\n",
    "            ratio = sum(self.y) / self.length\n",
    "            print('class balence: {:.2f}'.format(ratio))\n",
    "\n",
    "        # reshape?? see comment in __getitem__() ?????\n",
    "        self.X = self.X.reshape((self.length, 3, 112, 112)) \n",
    "        \n",
    "    def __len__(self):\n",
    "        return self.length\n",
    "    \n",
    "   \n",
    "    def __getitem__(self, index):\n",
    "        image = self.X[index]\n",
    "        \n",
    "        # the input to a conv2d must be in [N, C, W, H] format\n",
    "        #  n = number of examples, c is channels, w is width, and h is height\n",
    "        #  This means we do not in fact need to transpose the data. it should\n",
    "        #  be in the shape (3, 112, 112)\n",
    "        #image = np.transpose(image)\n",
    "        #image = np.rot90(image, k=3)\n",
    "        \n",
    "        return image.astype(np.float32), torch.tensor(self.y[index]).long()    "
   ]
  },
  {
   "cell_type": "code",
   "execution_count": 4,
   "id": "3bcda38e",
   "metadata": {},
   "outputs": [],
   "source": [
    "# function to concat the various data sets and split into train val test\n",
    "\n",
    "def merge_split(\n",
    "    X_data_lists: list,\n",
    "    y_data_lists: list,\n",
    "    train=0.7,\n",
    "    val=0.15,\n",
    "    test=0.15\n",
    "):\n",
    "    if (train + val + test) != 1:\n",
    "        print('splits must add to 1, added to {}'.format(train + val + test))\n",
    "        return None\n",
    "    if train < 0 or val < 0 or test < 0:\n",
    "        print('splits must be positive')\n",
    "        return None\n",
    "\n",
    "    # Concat\n",
    "    X = np.concatenate(X_data_lists)\n",
    "    y = np.concatenate(y_data_lists)\n",
    "    \n",
    "    # split off test\n",
    "    X_train_val, X_test, y_train_val, y_test = train_test_split(X, y, test_size=test, random_state=42)\n",
    "    \n",
    "    # split off val\n",
    "    val_percent_tv = val / (val + train)  # 15 percent of total data is equal to this\n",
    "    X_train, X_val, y_train, y_val = train_test_split(X_train_val, y_train_val, test_size=val_percent_tv, random_state=42)\n",
    "    \n",
    "    return [(X_train, y_train), (X_val, y_val), (X_test, y_test)]"
   ]
  },
  {
   "cell_type": "markdown",
   "id": "c717e3ab",
   "metadata": {},
   "source": [
    "### Test data loader"
   ]
  },
  {
   "cell_type": "code",
   "execution_count": 5,
   "id": "2cb1af8c",
   "metadata": {},
   "outputs": [],
   "source": [
    "# data file paths\n",
    "X_fp_list = [mlfw_X_fp]\n",
    "y_fp_list = [mlfw_y_fp]\n",
    "\n",
    "X_data_list = [np.load(fp) for fp in X_fp_list]\n",
    "y_data_list = [np.load(fp) for fp in y_fp_list]"
   ]
  },
  {
   "cell_type": "code",
   "execution_count": 6,
   "id": "e7f978ea",
   "metadata": {},
   "outputs": [],
   "source": [
    "# merge data and split into train val and test\n",
    "(X_train, y_train), (X_val, y_val), (X_test, y_test) = merge_split(X_data_list, y_data_list)"
   ]
  },
  {
   "cell_type": "code",
   "execution_count": 7,
   "id": "de3abc80",
   "metadata": {},
   "outputs": [
    {
     "name": "stdout",
     "output_type": "stream",
     "text": [
      "# examples:    8399\n",
      "class balence: 0.75\n"
     ]
    }
   ],
   "source": [
    "ds = maskDataset(\n",
    "    X_data=X_train,\n",
    "    y_data=y_train,\n",
    "    norm_0_1=True,\n",
    "    print_stats=True,\n",
    ")"
   ]
  },
  {
   "cell_type": "code",
   "execution_count": 8,
   "id": "ba2b095f",
   "metadata": {},
   "outputs": [
    {
     "data": {
      "text/plain": [
       "(8399, 3, 112, 112)"
      ]
     },
     "execution_count": 8,
     "metadata": {},
     "output_type": "execute_result"
    }
   ],
   "source": [
    "ds.X.shape"
   ]
  },
  {
   "cell_type": "code",
   "execution_count": 9,
   "id": "efe7f4e8",
   "metadata": {},
   "outputs": [
    {
     "data": {
      "text/plain": [
       "(3, 112, 112)"
      ]
     },
     "execution_count": 9,
     "metadata": {},
     "output_type": "execute_result"
    }
   ],
   "source": [
    "ds[2][0].shape"
   ]
  },
  {
   "cell_type": "code",
   "execution_count": 10,
   "id": "45251718",
   "metadata": {},
   "outputs": [
    {
     "data": {
      "image/png": "[encoded data removed]",
      "text/plain": [
       "<Figure size 432x288 with 1 Axes>"
      ]
     },
     "metadata": {
      "needs_background": "light"
     },
     "output_type": "display_data"
    }
   ],
   "source": [
    "img_idx = randint(0, 8399)\n",
    "\n",
    "image, label = ds[img_idx]\n",
    "\n",
    "# un-normalize\n",
    "image = (image * 255).astype(np.uint8)\n",
    "\n",
    "# show image\n",
    "plt.imshow(image.reshape(112, 112, 3))\n",
    "plt.title('A training example image, class {}'.format(label) )\n",
    "plt.axis('off')\n",
    "plt.show()"
   ]
  },
  {
   "cell_type": "markdown",
   "id": "5f48dadd",
   "metadata": {},
   "source": [
    "## Model\n",
    "\n",
    "The following model is implemented in pytorch. It uses several convotutional layers followed by several linear layers."
   ]
  },
  {
   "cell_type": "code",
   "execution_count": 11,
   "id": "c5a7419f",
   "metadata": {},
   "outputs": [],
   "source": [
    "class CNN(nn.Module):\n",
    "    def __init__(\n",
    "        self,\n",
    "        input_size: Sequence[int] = (3, 112, 112),\n",
    "        num_classes: int = 2,\n",
    "        channels: Sequence[int] = (8, 16, 32),\n",
    "        kernel_sizes: Sequence[int] = (10, 10, 10, 10),\n",
    "        linear_units: Sequence[int] = (100, 10),\n",
    "    ):\n",
    "        super(CNN, self).__init__()\n",
    "        \n",
    "        self.input_size = input_size\n",
    "        self.num_classes = num_classes\n",
    "        self.channels = input_size[0:1] + channels\n",
    "        self.kernel_sizes = kernel_sizes\n",
    "        self.linear_units = linear_units\n",
    "        \n",
    "        self.flatten = nn.Flatten()\n",
    "        self.pool = partial(nn.MaxPool2d, kernel_size=2, stride=2)  # first 2 is for 2x2 kernel, second is stride length\n",
    "        self.dropout = nn.Dropout\n",
    "        self.activation = nn.ReLU\n",
    "        self.accuracy = torchmetrics.functional.accuracy\n",
    "        self.conf_matrix = torchmetrics.functional.confusion_matrix\n",
    "        \n",
    "        # optional, define batch norm here\n",
    "        \n",
    "        # build the convolutional layers\n",
    "        conv_layers = list()\n",
    "        for in_channels, out_channels, kernel_size in zip(\n",
    "            self.channels[:-2], self.channels[1:-1], self.kernel_sizes[:-1]\n",
    "        ):\n",
    "            conv_layers.append(\n",
    "                nn.Conv2d(\n",
    "                    in_channels=in_channels,\n",
    "                    out_channels=out_channels,\n",
    "                    kernel_size=kernel_size,\n",
    "                    #stride=2,\n",
    "                    #padding='same',\n",
    "                )\n",
    "            )\n",
    "            conv_layers.append(self.activation())\n",
    "            conv_layers.append(self.pool())\n",
    "        # add final layer to convolutions\n",
    "        conv_layers.append(\n",
    "            nn.Conv2d(\n",
    "                in_channels=self.channels[-2],\n",
    "                out_channels=self.channels[-1],\n",
    "                kernel_size=self.kernel_sizes[-1],\n",
    "                stride=2,\n",
    "                #padding='same',\n",
    "            )\n",
    "        )\n",
    "        conv_layers.append(self.activation())\n",
    "        conv_layers.append(self.pool())\n",
    "\n",
    "        \n",
    "        # turn list into layers\n",
    "        self.conv_net = nn.Sequential(*conv_layers)\n",
    "        \n",
    "        # linear layers\n",
    "        linear_layers = list()\n",
    "        prev_linear_size = self.channels[-1] * 9  # const scale it correctly\n",
    "        for dense_layer_size in self.linear_units:\n",
    "            linear_layers.append(\n",
    "                nn.Linear(\n",
    "                    in_features=prev_linear_size,\n",
    "                    out_features=dense_layer_size,\n",
    "                )\n",
    "            )\n",
    "            linear_layers.append(self.activation())\n",
    "            prev_linear_size=dense_layer_size\n",
    "            \n",
    "        self.penultimate_dense = nn.Sequential(*linear_layers)\n",
    "        self.ultimate_dense = nn.Linear(\n",
    "            in_features=self.linear_units[-1],\n",
    "            out_features=self.num_classes\n",
    "        )\n",
    "    \n",
    "    \n",
    "    def forward(self, x: torch.Tensor) -> torch.Tensor:\n",
    "        x = self.conv_net(x)\n",
    "        x = self.flatten(x)\n",
    "        # may need to expand dense entry since flatten\n",
    "        x = self.penultimate_dense(x)\n",
    "        x = self.ultimate_dense(x)\n",
    "        return x\n",
    "\n",
    "\n",
    "def train(dataloader, model, loss_fn, optimizer, verbose=False):\n",
    "    #model = model.float()  # sometime fixes random obscure type error\n",
    "    model.train()  # configures for training, grad on, dropout if there is dropout\n",
    "    size = len(dataloader.dataset)\n",
    "    \n",
    "    for batch, (X, y) in enumerate(dataloader):\n",
    "        optimizer.zero_grad()\n",
    "        \n",
    "        # compute prediction loss\n",
    "        preds = model(X)\n",
    "        loss = loss_fn(preds, y)\n",
    "        \n",
    "        # backprop\n",
    "        loss.backward()\n",
    "        optimizer.step()\n",
    "        \n",
    "        if batch % 5 == 0 and verbose:\n",
    "            loss, current = loss.item(), batch * len(X)\n",
    "            print(f\"loss: {loss:>7f}  [{current:>5d}/{size:>5d}]\")\n",
    "    return loss\n",
    "\n",
    "# for evaluating on validation data too\n",
    "def test(dataloader, model, loss_fn, verbose=False):\n",
    "    model.eval()\n",
    "    test_loss, correct = 0, 0\n",
    "    size = len(dataloader.dataset)\n",
    "    num_batches = len(dataloader)\n",
    "    \n",
    "    with torch.no_grad():\n",
    "        for X, y in dataloader:\n",
    "\n",
    "            pred = model(X.float())\n",
    "            test_loss += loss_fn(pred, y).item()\n",
    "            correct += (pred.argmax(1) == y).type(torch.float).sum().item()\n",
    "            \n",
    "    test_loss /= num_batches\n",
    "    correct /= size\n",
    "    if verbose:\n",
    "        print(f\"Results: \\n Accuracy: {(100*correct):>0.1f}%, Avg loss: {test_loss:>8f} \\n\")\n",
    "    return correct, test_loss\n",
    "        "
   ]
  },
  {
   "cell_type": "markdown",
   "id": "7a84b36c",
   "metadata": {},
   "source": [
    "The below 2 blocks show the structure of the model with the default parameters for the convolution sizes, convolution kernel sizes, and linear layer sizes."
   ]
  },
  {
   "cell_type": "code",
   "execution_count": 12,
   "id": "b249f5ee",
   "metadata": {},
   "outputs": [],
   "source": [
    "net = CNN()"
   ]
  },
  {
   "cell_type": "code",
   "execution_count": 13,
   "id": "7904719b",
   "metadata": {},
   "outputs": [
    {
     "data": {
      "text/plain": [
       "CNN(\n",
       "  (flatten): Flatten(start_dim=1, end_dim=-1)\n",
       "  (conv_net): Sequential(\n",
       "    (0): Conv2d(3, 8, kernel_size=(10, 10), stride=(1, 1))\n",
       "    (1): ReLU()\n",
       "    (2): MaxPool2d(kernel_size=2, stride=2, padding=0, dilation=1, ceil_mode=False)\n",
       "    (3): Conv2d(8, 16, kernel_size=(10, 10), stride=(1, 1))\n",
       "    (4): ReLU()\n",
       "    (5): MaxPool2d(kernel_size=2, stride=2, padding=0, dilation=1, ceil_mode=False)\n",
       "    (6): Conv2d(16, 32, kernel_size=(10, 10), stride=(2, 2))\n",
       "    (7): ReLU()\n",
       "    (8): MaxPool2d(kernel_size=2, stride=2, padding=0, dilation=1, ceil_mode=False)\n",
       "  )\n",
       "  (penultimate_dense): Sequential(\n",
       "    (0): Linear(in_features=288, out_features=100, bias=True)\n",
       "    (1): ReLU()\n",
       "    (2): Linear(in_features=100, out_features=10, bias=True)\n",
       "    (3): ReLU()\n",
       "  )\n",
       "  (ultimate_dense): Linear(in_features=10, out_features=2, bias=True)\n",
       ")"
      ]
     },
     "execution_count": 13,
     "metadata": {},
     "output_type": "execute_result"
    }
   ],
   "source": [
    "net"
   ]
  },
  {
   "cell_type": "markdown",
   "id": "dc25d430",
   "metadata": {},
   "source": [
    "## Running the model\n",
    "\n",
    "Running the pytorch model involves several steps. First, the pytorch datasets must be set up. They take in the X and y data at construction to become an object that can serve up the data on command. Next, the pytorch data loaders are created. These data loaders are another pytorch object which takes in the dataset, whether to shuffle or not, and the batch size.\n",
    "\n",
    "The model, loss function, and optimizer are created next. The training loop follows. This loop runs the training loop defined above with the model and then evaluates on the validation data."
   ]
  },
  {
   "cell_type": "code",
   "execution_count": 16,
   "id": "bfd76d1e",
   "metadata": {},
   "outputs": [],
   "source": [
    "# Create datasets\n",
    "train_dataset = maskDataset(\n",
    "    X_data=X_train,\n",
    "    y_data=y_train,\n",
    "    norm_0_1=True,\n",
    "    print_stats=False,\n",
    ")\n",
    "\n",
    "val_dataset = maskDataset(\n",
    "    X_data=X_val,\n",
    "    y_data=y_val,\n",
    "    norm_0_1=True,\n",
    "    print_stats=False,\n",
    ")\n",
    "\n",
    "test_dataset = maskDataset(\n",
    "    X_data=X_test,\n",
    "    y_data=y_test,\n",
    "    norm_0_1=True,\n",
    "    print_stats=False,\n",
    ")"
   ]
  },
  {
   "cell_type": "code",
   "execution_count": 17,
   "id": "8312d07e",
   "metadata": {},
   "outputs": [
    {
     "name": "stdout",
     "output_type": "stream",
     "text": [
      "Using cpu device\n",
      "Results: \n",
      " Accuracy: 75.7%, Avg loss: 0.556957 \n",
      "\n",
      "Results: \n",
      " Accuracy: 75.7%, Avg loss: 0.549833 \n",
      "\n",
      "Results: \n",
      " Accuracy: 75.7%, Avg loss: 0.519702 \n",
      "\n",
      "Results: \n",
      " Accuracy: 75.7%, Avg loss: 0.334983 \n",
      "\n",
      "Results: \n",
      " Accuracy: 88.7%, Avg loss: 0.264947 \n",
      "\n",
      "Results: \n",
      " Accuracy: 93.7%, Avg loss: 0.158517 \n",
      "\n",
      "Results: \n",
      " Accuracy: 94.2%, Avg loss: 0.136182 \n",
      "\n",
      "Results: \n",
      " Accuracy: 96.7%, Avg loss: 0.082187 \n",
      "\n",
      "Results: \n",
      " Accuracy: 96.9%, Avg loss: 0.078342 \n",
      "\n",
      "Results: \n",
      " Accuracy: 96.6%, Avg loss: 0.071900 \n",
      "\n",
      "Results: \n",
      " Accuracy: 97.4%, Avg loss: 0.073186 \n",
      "\n",
      "Results: \n",
      " Accuracy: 97.5%, Avg loss: 0.059025 \n",
      "\n",
      "Results: \n",
      " Accuracy: 97.3%, Avg loss: 0.060188 \n",
      "\n",
      "Results: \n",
      " Accuracy: 97.7%, Avg loss: 0.054623 \n",
      "\n",
      "Results: \n",
      " Accuracy: 96.6%, Avg loss: 0.064278 \n",
      "\n",
      "Results: \n",
      " Accuracy: 97.4%, Avg loss: 0.058505 \n",
      "\n",
      "Results: \n",
      " Accuracy: 95.7%, Avg loss: 0.099461 \n",
      "\n",
      "Results: \n",
      " Accuracy: 97.3%, Avg loss: 0.055437 \n",
      "\n",
      "Results: \n",
      " Accuracy: 97.7%, Avg loss: 0.057198 \n",
      "\n",
      "Results: \n",
      " Accuracy: 98.0%, Avg loss: 0.047593 \n",
      "\n",
      "Results: \n",
      " Accuracy: 98.4%, Avg loss: 0.045007 \n",
      "\n",
      "Results: \n",
      " Accuracy: 97.1%, Avg loss: 0.062430 \n",
      "\n",
      "Results: \n",
      " Accuracy: 98.5%, Avg loss: 0.044701 \n",
      "\n",
      "Results: \n",
      " Accuracy: 97.9%, Avg loss: 0.052582 \n",
      "\n",
      "Results: \n",
      " Accuracy: 97.9%, Avg loss: 0.044387 \n",
      "\n"
     ]
    }
   ],
   "source": [
    "# Create the dataloaders\n",
    "batch_size = 128\n",
    "\n",
    "train_dataloader = DataLoader(\n",
    "    train_dataset,\n",
    "    batch_size=batch_size,\n",
    "    shuffle=True\n",
    ")\n",
    "\n",
    "val_dataloader = DataLoader(\n",
    "    val_dataset,\n",
    "    batch_size=batch_size,\n",
    "    shuffle=False\n",
    ")\n",
    "\n",
    "test_dataloader = DataLoader(\n",
    "    test_dataset,\n",
    "    batch_size=batch_size,\n",
    "    shuffle=False\n",
    ")\n",
    "\n",
    "device = \"cuda\" if torch.cuda.is_available() else \"cpu\"\n",
    "print(f\"Using {device} device\")\n",
    "\n",
    "# Create CNN\n",
    "model = CNN()\n",
    "\n",
    "# use cross entropy loss\n",
    "loss_fn = nn.CrossEntropyLoss()\n",
    "\n",
    "# SGD optimizer\n",
    "optimizer = torch.optim.SGD(\n",
    "    model.parameters(), \n",
    "    lr=0.003,\n",
    "    momentum=0.9,\n",
    "    #nesterov =True\n",
    "    weight_decay =.0001\n",
    ")\n",
    "#optimizer = torch.optim.Adam(model.parameters(), lr=0.003, betas=(0.9, 0.999), eps=1e-08, weight_decay=0, amsgrad=False)\n",
    "\n",
    "\n",
    "# record results\n",
    "train_loss = []\n",
    "val_loss = []\n",
    "val_accur = []\n",
    "\n",
    "epochs = 25\n",
    "for t in range(epochs):\n",
    "    #print(f\"Epoch {t+1}\\n-------------------------------\")\n",
    "    \n",
    "    train_l = train(train_dataloader, model, loss_fn, optimizer, verbose=False)\n",
    "    train_loss.append(train_l)\n",
    "    \n",
    "    val_a, val_l = test(val_dataloader, model, loss_fn, verbose=True)\n",
    "    val_loss.append(val_l)\n",
    "    val_accur.append(val_a) "
   ]
  },
  {
   "cell_type": "code",
   "execution_count": 20,
   "id": "f7ccdb07",
   "metadata": {},
   "outputs": [
    {
     "data": {
      "image/png": "[encoded data removed]",
      "text/plain": [
       "<Figure size 432x288 with 1 Axes>"
      ]
     },
     "metadata": {
      "needs_background": "light"
     },
     "output_type": "display_data"
    }
   ],
   "source": [
    "# plot training loss and validation loss\n",
    "plt.plot(np.arange(len(train_loss)), [i.item() for i in train_loss], 'r', label='train loss') # train in red\n",
    "plt.plot(np.arange(len(val_loss)), val_loss, 'b', label='val loss')# val in blue\n",
    "plt.xlabel('epoch')\n",
    "plt.ylabel('loss')\n",
    "plt.legend()\n",
    "plt.title('Traing and validation Loss')\n",
    "plt.show()"
   ]
  },
  {
   "cell_type": "code",
   "execution_count": 21,
   "id": "e0a13570",
   "metadata": {},
   "outputs": [
    {
     "name": "stdout",
     "output_type": "stream",
     "text": [
      "              precision    recall  f1-score   support\n",
      "\n",
      "           0       0.99      0.92      0.95       437\n",
      "           1       0.97      1.00      0.99      1364\n",
      "\n",
      "    accuracy                           0.98      1801\n",
      "   macro avg       0.98      0.96      0.97      1801\n",
      "weighted avg       0.98      0.98      0.98      1801\n",
      "\n"
     ]
    }
   ],
   "source": [
    "# get val predictions and true labels for a classification report\n",
    "preds = []\n",
    "y_true = []\n",
    "\n",
    "model.eval()\n",
    "with torch.no_grad():\n",
    "    for X, y in val_dataloader:\n",
    "        pred = model(X.float())\n",
    "        preds.append(pred)\n",
    "        y_true.append(y)\n",
    "\n",
    "y_pred = np.concatenate(preds).argmax(1)\n",
    "y_true = np.concatenate(y_true)\n",
    "\n",
    "report = classification_report(y_true=y_true, y_pred=y_pred)\n",
    "print(report)"
   ]
  },
  {
   "cell_type": "markdown",
   "id": "a7884662",
   "metadata": {},
   "source": [
    "With the current parameters, we get an accuracy of 99% on the validation data and an f1 score of 0.99.\n",
    "\n",
    "### Optimizer param sweep\n",
    "\n",
    "Given the high performance, A parameter sweep isn't nessisary."
   ]
  },
  {
   "cell_type": "markdown",
   "id": "627df395",
   "metadata": {},
   "source": [
    "\n",
    "\n",
    "\n",
    "### Saving the model weights\n",
    "\n",
    "To reuse the model, we will save the weights. Pytorch offers a very easy way to save model weights. The model itself will be placed into a python file so it can be imported."
   ]
  },
  {
   "cell_type": "code",
   "execution_count": 22,
   "id": "e241c8cd",
   "metadata": {},
   "outputs": [],
   "source": [
    "weights_fp = './results/torch_model_weights_mlfw_only'\n",
    "torch.save(model.state_dict(), weights_fp)"
   ]
  },
  {
   "cell_type": "code",
   "execution_count": null,
   "id": "172ab052",
   "metadata": {},
   "outputs": [],
   "source": []
  }
 ],
 "metadata": {
  "kernelspec": {
   "display_name": "Python 3 (ipykernel)",
   "language": "python",
   "name": "python3"
  },
  "language_info": {
   "codemirror_mode": {
    "name": "ipython",
    "version": 3
   },
   "file_extension": ".py",
   "mimetype": "text/x-python",
   "name": "python",
   "nbconvert_exporter": "python",
   "pygments_lexer": "ipython3",
   "version": "3.7.13"
  }
 },
 "nbformat": 4,
 "nbformat_minor": 5
}
