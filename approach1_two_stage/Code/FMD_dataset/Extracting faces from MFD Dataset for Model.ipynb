{
 "cells": [
  {
   "cell_type": "markdown",
   "id": "4134d998",
   "metadata": {},
   "source": [
    "# Testing Model on Face Mask Detection Dataset - Part 1\n",
    "\n",
    "This dataset of 853 images has around 4000 faces in it. These faces are have no mask, a mask correctly worn, or one incorrectly worn. All images are very real world. The model will be evaluated on this data.\n",
    "\n",
    "In part 1, the images will be passed though the face detector to extract all availible faces. These faces will be matched with the closest label. The faces will be cropped and their labels will be saved. Any faces not detected will be recorded.\n",
    "\n",
    "## Imports and setup"
   ]
  },
  {
   "cell_type": "code",
   "execution_count": 1,
   "id": "9eda9f34",
   "metadata": {},
   "outputs": [],
   "source": [
    "import matplotlib.pyplot as plt\n",
    "import matplotlib.image as mpimg\n",
    "import PIL\n",
    "from PIL import Image, ImageOps, ImageDraw\n",
    "import os\n",
    "import xml.dom.minidom\n",
    "import math\n",
    "\n",
    "import face_recognition\n",
    "\n",
    "import cv2\n",
    "import mediapipe as mp"
   ]
  },
  {
   "cell_type": "code",
   "execution_count": 2,
   "id": "b77c327f",
   "metadata": {},
   "outputs": [],
   "source": [
    "mp_face_detection = mp.solutions.face_detection\n",
    "mp_drawing = mp.solutions.drawing_utils"
   ]
  },
  {
   "cell_type": "code",
   "execution_count": 3,
   "id": "c2449017",
   "metadata": {},
   "outputs": [],
   "source": [
    "fmd_img_dir = r'D:\\data\\face_mask\\FaceMaskDetection\\images'\n",
    "fmd_ano_dir = r'D:\\data\\face_mask\\FaceMaskDetection\\annotations'"
   ]
  },
  {
   "cell_type": "markdown",
   "id": "a08eb204",
   "metadata": {},
   "source": [
    "## Functions"
   ]
  },
  {
   "cell_type": "code",
   "execution_count": 4,
   "id": "f712ccce",
   "metadata": {},
   "outputs": [],
   "source": [
    "def media_pipe_fd(cv2_img, w, h, tol=0.5):\n",
    "    output = []\n",
    "    with mp_face_detection.FaceDetection(\n",
    "        model_selection=1, min_detection_confidence=tol) as face_detection:\n",
    "        \n",
    "        # Convert the BGR image to RGB and process it with MediaPipe Face Detection\n",
    "        results = face_detection.process(cv2.cvtColor(cv2_img, cv2.COLOR_BGR2RGB))\n",
    "        \n",
    "        if results.detections:\n",
    "            for detection in results.detections:\n",
    "                rbb = detection.location_data.relative_bounding_box\n",
    "                rect_start_point = mp_drawing._normalized_to_pixel_coordinates(\n",
    "                  rbb.xmin, rbb.ymin, w,\n",
    "                  h)\n",
    "                rect_end_point = mp_drawing._normalized_to_pixel_coordinates(\n",
    "                  rbb.xmin + rbb.width,\n",
    "                  rbb.ymin + rbb.height, w,\n",
    "                  h)\n",
    "                if rect_start_point is None:\n",
    "                    rect_start_point = (0, 0)\n",
    "                    print('bouding box algo gave out of bounds box')\n",
    "                if rect_end_point is None:\n",
    "                    rect_end_point = (w, h)\n",
    "                    print('bouding box algo gave out of bounds box')\n",
    "                \n",
    "                output.append((rect_start_point, rect_end_point))\n",
    "    return output"
   ]
  },
  {
   "cell_type": "code",
   "execution_count": 5,
   "id": "0148ab59",
   "metadata": {},
   "outputs": [],
   "source": [
    "def parse_annotations(anotation_fp):\n",
    "    doc = xml.dom.minidom.parse(anotation_fp)\n",
    "    objs = doc.getElementsByTagName('object')\n",
    "    \n",
    "    out_data = []\n",
    "    for obj in objs:\n",
    "        name, diff, xmin, ymin, xmax, ymax = None, None, None, None, None, None\n",
    "        for node in obj.childNodes:\n",
    "\n",
    "            #print(node)\n",
    "            if node.nodeType == node.ELEMENT_NODE:\n",
    "                if node.tagName == 'name':\n",
    "                    name = node.firstChild.nodeValue\n",
    "                elif node.tagName == 'difficult':\n",
    "                    diff = node.firstChild.nodeValue\n",
    "                elif node.tagName == 'bndbox':\n",
    "                    for box_coord_node in node.childNodes:\n",
    "                        if box_coord_node.nodeType == node.ELEMENT_NODE:\n",
    "\n",
    "                            #print('\\t' + str(box_coord_node))\n",
    "                            if box_coord_node.nodeType == node.ELEMENT_NODE:\n",
    "                                if box_coord_node.tagName == 'xmin':\n",
    "                                    xmin = box_coord_node.firstChild.nodeValue\n",
    "                                elif box_coord_node.tagName == 'ymin':\n",
    "                                    ymin = box_coord_node.firstChild.nodeValue\n",
    "                                elif box_coord_node.tagName == 'xmax':\n",
    "                                    xmax = box_coord_node.firstChild.nodeValue\n",
    "                                elif box_coord_node.tagName == 'ymax':\n",
    "                                    ymax = box_coord_node.firstChild.nodeValue\n",
    "        targets = [name, diff, xmin, ymin, xmax, ymax]\n",
    "        if sum([x is None for x in targets]) == 0:\n",
    "            box = {\n",
    "                'name': name,\n",
    "                'difficult': int(diff),\n",
    "                'xmin': int(xmin),\n",
    "                'ymin': int(ymin),\n",
    "                'xmax': int(xmax),\n",
    "                'ymax': int(ymax)\n",
    "\n",
    "            }\n",
    "            out_data.append(box)\n",
    "    return out_data"
   ]
  },
  {
   "cell_type": "code",
   "execution_count": 6,
   "id": "fdb71c86",
   "metadata": {},
   "outputs": [],
   "source": [
    "def anotation_to_box_coords(anotation):\n",
    "    xmin = anotation['xmin']\n",
    "    ymin = anotation['ymin']\n",
    "    xmax = anotation['xmax']\n",
    "    ymax = anotation['ymax']\n",
    "    \n",
    "    bl = (xmin, ymax)\n",
    "    tr = (xmax, ymin)\n",
    "    return (bl, tr)"
   ]
  },
  {
   "cell_type": "code",
   "execution_count": 7,
   "id": "bc5fd09d",
   "metadata": {},
   "outputs": [],
   "source": [
    "def norm_coords(coord, w, h):\n",
    "    x, y = coord\n",
    "    return (x/w, y/h)"
   ]
  },
  {
   "cell_type": "code",
   "execution_count": 8,
   "id": "fb24264a",
   "metadata": {},
   "outputs": [],
   "source": [
    "def euclidian_dist(coord1, coord2):\n",
    "    x1, y1 = coord1\n",
    "    x2, y2 = coord2\n",
    "    \n",
    "    xd = x2 - x1\n",
    "    yd = y2 - y1\n",
    "    return math.sqrt(xd ** 2 + yd ** 2)"
   ]
  },
  {
   "cell_type": "code",
   "execution_count": 9,
   "id": "343da896",
   "metadata": {},
   "outputs": [],
   "source": [
    "def correct_crop(xl, xr, yt, yb, w, h):\n",
    "    if yt < 0:\n",
    "        diff = abs(yt)\n",
    "        yt = 0\n",
    "        expand_left = int(diff / 2)\n",
    "        expand_right = diff - expand_left\n",
    "        xl = xl - expand_left\n",
    "        xr = xr + expand_right\n",
    "    if xl < 0:\n",
    "        diff = abs(xl)\n",
    "        xl = 0\n",
    "        expand_down = int(diff / 2)\n",
    "        expand_up = diff - expand_down\n",
    "        yb = yb + expand_down\n",
    "        yt = yt - expand_up\n",
    "    if yb > h:\n",
    "        diff = yb - h\n",
    "        yb = h\n",
    "        expand_left = int(diff / 2)\n",
    "        expand_right = diff - expand_left\n",
    "        xl = xl - expand_left\n",
    "        xr = xr + expand_right\n",
    "    if xr > w:\n",
    "        diff = xr - w\n",
    "        xr = w\n",
    "        expand_down = int(diff / 2)\n",
    "        expand_up = diff - expand_down\n",
    "        yb = yb + expand_down\n",
    "        yt = yt - expand_up\n",
    "    if yt < 0 or xl < 0 or yb > h or xr > w:\n",
    "        print('coords error after correction')\n",
    "    return xl, xr, yt, yb"
   ]
  },
  {
   "cell_type": "code",
   "execution_count": 10,
   "id": "44e9a8fc",
   "metadata": {},
   "outputs": [],
   "source": [
    "def rect_square_expansion(xl, xr, yt, yb, w, h):\n",
    "    bbh = yb - yt\n",
    "    bbw = xr - xl\n",
    "    if bbh > bbw:\n",
    "        diff = bbh - bbw\n",
    "        expand_left = int(diff/2)\n",
    "        expand_right = diff - expand_left\n",
    "        xl = xl - expand_left\n",
    "        xr = xr + expand_right\n",
    "    elif bbw > bbh:\n",
    "        diff = bbw - bbh\n",
    "        expand_down = int(diff/2)\n",
    "        expand_up = diff - expand_down\n",
    "        yb = yb + expand_down\n",
    "        yt = yt - expand_up\n",
    "    \n",
    "    return xl, xr, yt, yb"
   ]
  },
  {
   "cell_type": "markdown",
   "id": "2f54a13b",
   "metadata": {},
   "source": [
    "## Extraction"
   ]
  },
  {
   "cell_type": "code",
   "execution_count": 67,
   "id": "8fc9f8ed",
   "metadata": {},
   "outputs": [
    {
     "name": "stdout",
     "output_type": "stream",
     "text": [
      "bouding box algo gave out of bounds box\n",
      "bouding box algo gave out of bounds box\n",
      "bouding box algo gave out of bounds box\n",
      "bouding box algo gave out of bounds box\n",
      "bouding box algo gave out of bounds box\n",
      "bouding box algo gave out of bounds box\n",
      "bouding box algo gave out of bounds box\n",
      "bouding box algo gave out of bounds box\n",
      "bouding box algo gave out of bounds box\n",
      "bouding box algo gave out of bounds box\n",
      "coords error after correction\n",
      "coords error after correction\n",
      "coords error after correction\n",
      "bouding box algo gave out of bounds box\n",
      "bouding box algo gave out of bounds box\n",
      "bouding box algo gave out of bounds box\n",
      "coords error after correction\n",
      "coords error after correction\n",
      "coords error after correction\n",
      "bouding box algo gave out of bounds box\n",
      "bouding box algo gave out of bounds box\n",
      "bouding box algo gave out of bounds box\n",
      "bouding box algo gave out of bounds box\n",
      "bouding box algo gave out of bounds box\n",
      "bouding box algo gave out of bounds box\n",
      "bouding box algo gave out of bounds box\n",
      "bouding box algo gave out of bounds box\n",
      "bouding box algo gave out of bounds box\n",
      "bouding box algo gave out of bounds box\n",
      "bouding box algo gave out of bounds box\n",
      "bouding box algo gave out of bounds box\n",
      "bouding box algo gave out of bounds box\n",
      "coords error after correction\n",
      "coords error after correction\n",
      "coords error after correction\n",
      "detections: 1266\n",
      "misses: 372\n"
     ]
    },
    {
     "data": {
      "text/plain": [
       "{'total': 737,\n",
       " 'mask': 546,\n",
       " 'no mask': 166,\n",
       " 'incorrect mask': 25,\n",
       " 'detected mask': 285,\n",
       " 'detected wo mask': 65,\n",
       " 'detected w incorrect mask': 15}"
      ]
     },
     "execution_count": 67,
     "metadata": {},
     "output_type": "execute_result"
    }
   ],
   "source": [
    "# config options\n",
    "match_tolerance = 0.11\n",
    "algo_tol = 0.5\n",
    "# input dirs\n",
    "fmd_image_root = r'D:\\data\\face_mask\\FaceMaskDetection\\images'\n",
    "fmd_ano_root = r'D:\\data\\face_mask\\FaceMaskDetection\\annotations'\n",
    "# output dirs\n",
    "correctly_worn_out_dir = r'D:\\data\\face_mask\\FMDDetected2\\correct'\n",
    "incorrectly_worn_out_dir = r'D:\\data\\face_mask\\FMDDetected2\\incorrect'\n",
    "# intended dimensions of the output. \n",
    "target_h = 112\n",
    "target_w = target_h  # enforce square\n",
    "\n",
    "\n",
    "total_detections = 0\n",
    "misses = 0\n",
    "counts = {\n",
    "    'total': 0,\n",
    "    'mask': 0,\n",
    "    'no mask': 0,\n",
    "    'incorrect mask': 0,\n",
    "    'detected mask': 0,\n",
    "    'detected wo mask': 0,\n",
    "    'detected w incorrect mask': 0,\n",
    "}\n",
    "img_counter = 0\n",
    "for root, subdirectories, files in os.walk(fmd_image_root):\n",
    "    for file in files:\n",
    "        # get image and annotation file path\n",
    "        img_fp = os.path.join(fmd_image_root, file)\n",
    "        ano_fp = os.path.join(fmd_ano_root, file[:-3] + 'xml')\n",
    "\n",
    "        # read the image\n",
    "        image = cv2.imread(img_fp)\n",
    "        h, w, d = image.shape\n",
    "\n",
    "        # use the supplied face detector to detect faces\n",
    "        bbs = media_pipe_fd(image, w, h, tol=algo_tol)\n",
    "        total_detections += len(bbs)\n",
    "\n",
    "        # parse annotation file \n",
    "        anotations = parse_annotations(ano_fp)\n",
    "\n",
    "        # match annotations to algo bounding box if under threshold\n",
    "        for anotation in anotations:\n",
    "            bl, tr = anotation_to_box_coords(anotation)\n",
    "            # correct to mediapipe format\n",
    "            txl, tyb = bl\n",
    "            txr, tyt = tr\n",
    "            corrected_bl = (txl, tyt)\n",
    "            corrected_tr = (txr, tyb)\n",
    "            bl = corrected_bl\n",
    "            tr = corrected_tr\n",
    "            \n",
    "            # thresh = match_tolerance * math.sqrt(w * h)  # geometric mean\n",
    "            thresh = match_tolerance * ((w + h) / 2)  # arithmetric mean\n",
    "            \n",
    "            # switch to closest scheme with both params\n",
    "            \n",
    "            match = None\n",
    "            closest_dist = 10000000\n",
    "            for bb in bbs:\n",
    "                #dist = euclidian_dist(bl, bb[0])\n",
    "                #dist += euclidian_dist(tr, bb[1]\n",
    "                dist1 = euclidian_dist(bl, bb[0])\n",
    "                dist2 = euclidian_dist(tr, bb[1])\n",
    "                if (dist1 + dist2) < closest_dist:\n",
    "                    closest_dist = dist\n",
    "                    match = bb\n",
    "            if dist2 > thresh or dist2 > thresh:\n",
    "                #print(file)\n",
    "                #print('over threshold match of {:.2f}. Thresh is {:.2f}'.format(closest_dist, thresh))\n",
    "                temp=match\n",
    "                match = None\n",
    "                break\n",
    "\n",
    "            # collect metrics\n",
    "            if match is not None:\n",
    "                amt_to_inc = 1\n",
    "            else:\n",
    "                amt_to_inc = 0\n",
    "                misses += 1\n",
    "            counts['total'] += 1\n",
    "            # mask\n",
    "            if anotation['name'] == 'with_mask':\n",
    "                counts['mask'] += 1\n",
    "                counts['detected mask'] += amt_to_inc\n",
    "            # no mask\n",
    "            elif anotation['name'] == 'without_mask':\n",
    "                counts['no mask'] += 1\n",
    "                counts['detected wo mask'] += amt_to_inc\n",
    "            # incorrect mask\n",
    "            elif anotation['name'] == 'mask_weared_incorrect':\n",
    "                counts['incorrect mask'] += 1\n",
    "                counts['detected w incorrect mask'] += amt_to_inc\n",
    "\n",
    "            # crop image\n",
    "            if match is not None:\n",
    "                # crop to square\n",
    "                rect_start_point, rect_end_point = bb\n",
    "                xl, yt = rect_start_point\n",
    "                xr, yb = rect_end_point\n",
    "                xl, xr, yt, yb = rect_square_expansion(xl, xr, yt, yb, w, h)\n",
    "                # if expansion push box out of image bounds, reduce size of box\n",
    "                xl, xr, yt, yb = correct_crop(xl, xr, yt, yb, w, h)\n",
    "                \n",
    "                # expand if nessisary\n",
    "                expansion = .125\n",
    "                bbh = yb - yt\n",
    "                bbw = xr - xl\n",
    "                amt_to_add = int(expansion * max(bbh, bbw))\n",
    "                yt = yt - amt_to_add\n",
    "                yb = yb + amt_to_add\n",
    "                xl = xl - amt_to_add\n",
    "                xr = xr + amt_to_add\n",
    "                \n",
    "                # correct crop boundaries again if any expansion pushed crop outside image window\n",
    "                xl, xr, yt, yb = correct_crop(xl, xr, yt, yb, w, h)\n",
    "                xl, xr, yt, yb = correct_crop(xl, xr, yt, yb, w, h)\n",
    "\n",
    "                # perform crop\n",
    "                pil_img = Image.fromarray(cv2.cvtColor(image, cv2.COLOR_BGR2RGB))\n",
    "                # PIL crop format:  left, top, right, bottom\n",
    "                crop = [xl, yt, xr, yb]\n",
    "                pil_crop = pil_img.crop(crop)\n",
    "\n",
    "                # resize\n",
    "                pil_crop = pil_crop.resize((target_h, target_w), resample=PIL.Image.Resampling.HAMMING)\n",
    "\n",
    "                # save image\n",
    "                if anotation['name'] == 'with_mask':\n",
    "                    out_directory = correctly_worn_out_dir\n",
    "                else:\n",
    "                    out_directory = incorrectly_worn_out_dir\n",
    "                out_path = os.path.join(out_directory, file)\n",
    "                pil_crop.save(out_path)\n",
    "\n",
    "            \n",
    "        img_counter += 1\n",
    "        #if img_counter >= 2: \n",
    "        #    break\n",
    "        \n",
    "print('detections: {}'.format(total_detections))\n",
    "print('misses: {}'.format(misses))\n",
    "counts"
   ]
  },
  {
   "cell_type": "markdown",
   "id": "0b3e75af",
   "metadata": {},
   "source": [
    ".1\n",
    "corruption ok\n",
    "1266 detected\n",
    "104 + 281 = 385 images\n",
    "28 of 104 = 28%\n",
    "30%\n",
    "\n",
    ".125\n",
    "1266 detected\n",
    "27 out of 119\n",
    "119 + 314 = 433 22%\n",
    "34%\n",
    "\n",
    ".15\n",
    "1266 detected\n",
    "31 errors in  incorrect out of 128\n",
    "128 + 378 = 506\n",
    "40%\n",
    "\n",
    ".2\n",
    "1266 detected\n",
    "27 errors in  incorrect out of 133, 20%\n",
    "133 + 397 = 530\n",
    "41%\n",
    "\n",
    ".25\n",
    "1266 detection\n",
    "31 errors in  incorrect out of 141, 21%\n",
    "\n",
    "141 + 404 = 545\n",
    "43%\n",
    "\n",
    "indep tol for each\n",
    ".1\n",
    "77 + 272 = 349\n",
    "1 error out of 77 incrorrect: 1%\n",
    "\n",
    ".11\n",
    "78 + 281 = 359\n",
    "2 error out of 78 incrorrect: 2%\n",
    "\n",
    ".125\n",
    "82 + 293 = 375\n",
    "3 error out of 82 incrorrect: 4%\n"
   ]
  },
  {
   "cell_type": "code",
   "execution_count": 56,
   "id": "22ad3034",
   "metadata": {},
   "outputs": [
    {
     "data": {
      "text/plain": [
       "0.4304897314375987"
      ]
     },
     "execution_count": 56,
     "metadata": {},
     "output_type": "execute_result"
    }
   ],
   "source": [
    "545 / 1266"
   ]
  },
  {
   "cell_type": "code",
   "execution_count": 66,
   "id": "2add951e",
   "metadata": {},
   "outputs": [
    {
     "data": {
      "text/plain": [
       "0.02564102564102564"
      ]
     },
     "execution_count": 66,
     "metadata": {},
     "output_type": "execute_result"
    }
   ],
   "source": [
    "2/78"
   ]
  },
  {
   "cell_type": "code",
   "execution_count": null,
   "id": "76cac837",
   "metadata": {},
   "outputs": [],
   "source": []
  },
  {
   "cell_type": "code",
   "execution_count": null,
   "id": "db35980d",
   "metadata": {},
   "outputs": [],
   "source": []
  },
  {
   "cell_type": "code",
   "execution_count": null,
   "id": "f90c98be",
   "metadata": {},
   "outputs": [],
   "source": []
  },
  {
   "cell_type": "code",
   "execution_count": 29,
   "id": "7a29f2bf",
   "metadata": {},
   "outputs": [
    {
     "data": {
      "text/plain": [
       "(321, 69)"
      ]
     },
     "execution_count": 29,
     "metadata": {},
     "output_type": "execute_result"
    }
   ],
   "source": [
    "bl"
   ]
  },
  {
   "cell_type": "code",
   "execution_count": 30,
   "id": "b19373f2",
   "metadata": {},
   "outputs": [
    {
     "data": {
      "text/plain": [
       "(354, 34)"
      ]
     },
     "execution_count": 30,
     "metadata": {},
     "output_type": "execute_result"
    }
   ],
   "source": [
    "tr"
   ]
  },
  {
   "cell_type": "code",
   "execution_count": 40,
   "id": "625f650b",
   "metadata": {},
   "outputs": [
    {
     "data": {
      "text/plain": [
       "((321, 34), (354, 69))"
      ]
     },
     "execution_count": 40,
     "metadata": {},
     "output_type": "execute_result"
    }
   ],
   "source": [
    "txl, tyb = bl\n",
    "txr, tyt = tr\n",
    "corrected_bl = (txl, tyt)\n",
    "corrected_tr = (txr, tyb)\n",
    "(corrected_bl, corrected_tr)"
   ]
  },
  {
   "cell_type": "code",
   "execution_count": 38,
   "id": "6458ac8c",
   "metadata": {},
   "outputs": [
    {
     "data": {
      "text/plain": [
       "((318, 33), (351, 65))"
      ]
     },
     "execution_count": 38,
     "metadata": {},
     "output_type": "execute_result"
    }
   ],
   "source": [
    "temp"
   ]
  },
  {
   "cell_type": "code",
   "execution_count": 33,
   "id": "570cfd61",
   "metadata": {},
   "outputs": [
    {
     "data": {
      "text/plain": [
       "<matplotlib.image.AxesImage at 0x1a86e7de088>"
      ]
     },
     "execution_count": 33,
     "metadata": {},
     "output_type": "execute_result"
    },
    {
     "data": {
      "image/png": "[encoded data removed]",
      "text/plain": [
       "<Figure size 432x288 with 1 Axes>"
      ]
     },
     "metadata": {
      "needs_background": "light"
     },
     "output_type": "display_data"
    }
   ],
   "source": [
    "cv2.rectangle(image, bl, tr, (0,255,0),2)\n",
    "cv2.rectangle(image, temp[0], temp[1], (0,255,0),2)\n",
    "\n",
    "plt.imshow(cv2.cvtColor(image, cv2.COLOR_RGB2BGR))"
   ]
  },
  {
   "cell_type": "code",
   "execution_count": 35,
   "id": "7357b75d",
   "metadata": {},
   "outputs": [
    {
     "data": {
      "text/plain": [
       "[318, 33, 351, 65]"
      ]
     },
     "execution_count": 35,
     "metadata": {},
     "output_type": "execute_result"
    }
   ],
   "source": [
    "pil_img = Image.fromarray(cv2.cvtColor(image, cv2.COLOR_BGR2RGB))\n",
    "crop = [xl, yt, xr, yb]\n",
    "crop = [temp[0][0], temp[0][1], temp[1][0], temp[1][1]]\n",
    "crop"
   ]
  },
  {
   "cell_type": "code",
   "execution_count": null,
   "id": "95e51406",
   "metadata": {},
   "outputs": [],
   "source": [
    "pil_crop = pil_img.crop(crop)\n",
    "pil_crop.show()"
   ]
  },
  {
   "cell_type": "markdown",
   "id": "24523289",
   "metadata": {},
   "source": [
    "tol .4\n",
    "172, 402\n",
    "\n",
    ".425\n",
    "177, 416, corruption\n",
    "\n",
    "tol .45\n",
    "183, 429, corruption high\n",
    "\n",
    "bot left only \n",
    ".2\n",
    "\n",
    "170, 389\n",
    "\n",
    ".3\n",
    "corruption high\n",
    "196, 472"
   ]
  }
 ],
 "metadata": {
  "kernelspec": {
   "display_name": "Python 3 (ipykernel)",
   "language": "python",
   "name": "python3"
  },
  "language_info": {
   "codemirror_mode": {
    "name": "ipython",
    "version": 3
   },
   "file_extension": ".py",
   "mimetype": "text/x-python",
   "name": "python",
   "nbconvert_exporter": "python",
   "pygments_lexer": "ipython3",
   "version": "3.7.13"
  }
 },
 "nbformat": 4,
 "nbformat_minor": 5
}
