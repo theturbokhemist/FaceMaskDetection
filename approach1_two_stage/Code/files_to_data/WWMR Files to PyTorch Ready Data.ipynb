{
 "cells": [
  {
   "cell_type": "markdown",
   "id": "681fe89f",
   "metadata": {},
   "source": [
    "# WWMR Files to PyTorch Ready Data\n",
    "\n",
    "The WWMR data has been filtered down to square images of faces of the target shape already.\n",
    "\n",
    "## Imports and info"
   ]
  },
  {
   "cell_type": "code",
   "execution_count": 13,
   "id": "0d2f30ae",
   "metadata": {},
   "outputs": [],
   "source": [
    "import numpy as np\n",
    "from PIL import Image\n",
    "import matplotlib.pyplot as plt\n",
    "import os"
   ]
  },
  {
   "cell_type": "code",
   "execution_count": 14,
   "id": "2efc9db2",
   "metadata": {},
   "outputs": [],
   "source": [
    "correct_dir = r'D:\\data\\face_mask\\WWMR cropped MediaPipe\\correct'\n",
    "incorrect_dir = r'D:\\data\\face_mask\\WWMR cropped MediaPipe\\incorrect'"
   ]
  },
  {
   "cell_type": "markdown",
   "id": "21870fa7",
   "metadata": {},
   "source": [
    "## Load images as np arrays"
   ]
  },
  {
   "cell_type": "code",
   "execution_count": 15,
   "id": "f60971a5",
   "metadata": {},
   "outputs": [],
   "source": [
    "# correctly worn\n",
    "\n",
    "correctly_worn_list = []\n",
    "\n",
    "for root, subdirectories, files in os.walk(correct_dir):\n",
    "    for f in files:\n",
    "        im_fp = os.path.join(correct_dir, f)\n",
    "        im = Image.open(im_fp)\n",
    "        im_arr = np.array(im)\n",
    "        correctly_worn_list.append(im_arr)"
   ]
  },
  {
   "cell_type": "code",
   "execution_count": 16,
   "id": "aaba4c2a",
   "metadata": {},
   "outputs": [
    {
     "data": {
      "text/plain": [
       "140"
      ]
     },
     "execution_count": 16,
     "metadata": {},
     "output_type": "execute_result"
    }
   ],
   "source": [
    "len(correctly_worn_list)"
   ]
  },
  {
   "cell_type": "code",
   "execution_count": 17,
   "id": "c4eb4771",
   "metadata": {},
   "outputs": [],
   "source": [
    "correct_X = np.array(correctly_worn_list)\n",
    "correct_y = np.ones(len(correctly_worn_list)).astype(int)"
   ]
  },
  {
   "cell_type": "code",
   "execution_count": 18,
   "id": "28f15170",
   "metadata": {},
   "outputs": [],
   "source": [
    "# incorrectly worn\n",
    "\n",
    "incorrectly_worn_list = []\n",
    "\n",
    "for root, subdirectories, files in os.walk(incorrect_dir):\n",
    "    for f in files:\n",
    "        im_fp = os.path.join(incorrect_dir, f)\n",
    "        im = Image.open(im_fp)\n",
    "        im_arr = np.array(im)\n",
    "        incorrectly_worn_list.append(im_arr)"
   ]
  },
  {
   "cell_type": "code",
   "execution_count": 19,
   "id": "5d89427e",
   "metadata": {},
   "outputs": [],
   "source": [
    "incorrect_X = np.array(incorrectly_worn_list)\n",
    "incorrect_y = np.zeros(len(incorrectly_worn_list)).astype(int)"
   ]
  },
  {
   "cell_type": "markdown",
   "id": "58f1b4bc",
   "metadata": {},
   "source": [
    "### Concat the correct and incorrect\n"
   ]
  },
  {
   "cell_type": "code",
   "execution_count": 20,
   "id": "1762b265",
   "metadata": {},
   "outputs": [
    {
     "data": {
      "text/plain": [
       "(420, 112, 112, 3)"
      ]
     },
     "execution_count": 20,
     "metadata": {},
     "output_type": "execute_result"
    }
   ],
   "source": [
    "incorrect_X.shape"
   ]
  },
  {
   "cell_type": "code",
   "execution_count": 21,
   "id": "d33f3bcc",
   "metadata": {},
   "outputs": [],
   "source": [
    "WWMR_X = np.concatenate((incorrect_X, correct_X))\n",
    "WWMR_y = np.concatenate((incorrect_y, correct_y))"
   ]
  },
  {
   "cell_type": "code",
   "execution_count": 22,
   "id": "d9d2d0ac",
   "metadata": {},
   "outputs": [
    {
     "data": {
      "text/plain": [
       "(560, 112, 112, 3)"
      ]
     },
     "execution_count": 22,
     "metadata": {},
     "output_type": "execute_result"
    }
   ],
   "source": [
    "WWMR_X.shape"
   ]
  },
  {
   "cell_type": "code",
   "execution_count": 23,
   "id": "7c51e1b6",
   "metadata": {},
   "outputs": [
    {
     "data": {
      "text/plain": [
       "(560,)"
      ]
     },
     "execution_count": 23,
     "metadata": {},
     "output_type": "execute_result"
    }
   ],
   "source": [
    "WWMR_y.shape"
   ]
  },
  {
   "cell_type": "markdown",
   "id": "ece05f7a",
   "metadata": {},
   "source": [
    "## Save the output\n"
   ]
  },
  {
   "cell_type": "code",
   "execution_count": 26,
   "id": "b8c27a6c",
   "metadata": {},
   "outputs": [],
   "source": [
    "out_x = r'D:\\data\\face_mask\\WWMR cropped MediaPipe\\WWMR_X_for_model'\n",
    "out_y = r'D:\\data\\face_mask\\WWMR cropped MediaPipe\\WWMR_y_for_model'\n",
    "\n",
    "np.save(out_x, WWMR_X)\n",
    "np.save(out_y, WWMR_y)"
   ]
  },
  {
   "cell_type": "markdown",
   "id": "c88be2b4",
   "metadata": {},
   "source": [
    "## Resources\n",
    "\n",
    "* loading an image\n",
    "    + https://stackoverflow.com/questions/7762948/how-to-convert-an-rgb-image-to-numpy-array\n",
    "* numpy docs\n",
    "    + https://numpy.org/doc/stable/reference/generated/numpy.save.html"
   ]
  }
 ],
 "metadata": {
  "kernelspec": {
   "display_name": "Python 3 (ipykernel)",
   "language": "python",
   "name": "python3"
  },
  "language_info": {
   "codemirror_mode": {
    "name": "ipython",
    "version": 3
   },
   "file_extension": ".py",
   "mimetype": "text/x-python",
   "name": "python",
   "nbconvert_exporter": "python",
   "pygments_lexer": "ipython3",
   "version": "3.7.13"
  }
 },
 "nbformat": 4,
 "nbformat_minor": 5
}
